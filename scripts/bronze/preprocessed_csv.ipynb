{
  "cells": [
    {
      "cell_type": "markdown",
      "metadata": {
        "id": "D3yoYhU___R6"
      },
      "source": [
        "# **Preprocessing needed to load the datasets into MySQL**"
      ]
    },
    {
      "cell_type": "code",
      "source": [
        "import pandas as pd"
      ],
      "metadata": {
        "id": "pgGLaBxONSdl"
      },
      "execution_count": 8,
      "outputs": []
    },
    {
      "cell_type": "markdown",
      "metadata": {
        "id": "PvNcfHr-__SD"
      },
      "source": [
        "**cust_info.csv:**\n",
        "\"cst_id\" column with nulls were dropped"
      ]
    },
    {
      "cell_type": "code",
      "execution_count": 2,
      "metadata": {
        "id": "hpqFZJ2jrbvd"
      },
      "outputs": [],
      "source": [
        "df_cust_info = pd.read_csv(\"cust_info.csv\")"
      ]
    },
    {
      "cell_type": "code",
      "execution_count": null,
      "metadata": {
        "id": "6DvQiZtE0Uz3"
      },
      "outputs": [],
      "source": [
        "df_cust_info.drop(index=df_cust_info[df_cust_info['cst_id'].isna()].index, inplace=True)"
      ]
    },
    {
      "cell_type": "markdown",
      "metadata": {
        "id": "qxGmfFGp__SI"
      },
      "source": [
        "**prd_info.csv:** NULLS in 'prd_cost' column were replaced with the mean"
      ]
    },
    {
      "cell_type": "code",
      "execution_count": 7,
      "metadata": {
        "collapsed": true,
        "id": "9ujnOK-w6sXC",
        "jupyter": {
          "outputs_hidden": true
        }
      },
      "outputs": [],
      "source": [
        "df_prd_info=pd.read_csv('prd_info.csv')"
      ]
    },
    {
      "cell_type": "code",
      "execution_count": 9,
      "metadata": {
        "collapsed": true,
        "id": "g1ACZDx79seC",
        "jupyter": {
          "outputs_hidden": true
        }
      },
      "outputs": [],
      "source": [
        "df_prd_info.loc[:, \"prd_cost\"] = df_prd_info[\"prd_cost\"].fillna(df_prd_info[\"prd_cost\"].mean())"
      ]
    },
    {
      "cell_type": "code",
      "execution_count": 6,
      "metadata": {
        "id": "iZndaq_qHI2d"
      },
      "outputs": [],
      "source": [
        "df_prd_info.to_csv('prd_info.csv', index=False)"
      ]
    }
  ],
  "metadata": {
    "colab": {
      "provenance": []
    },
    "kernelspec": {
      "display_name": "Python [conda env:base] *",
      "language": "python",
      "name": "conda-base-py"
    },
    "language_info": {
      "codemirror_mode": {
        "name": "ipython",
        "version": 3
      },
      "file_extension": ".py",
      "mimetype": "text/x-python",
      "name": "python",
      "nbconvert_exporter": "python",
      "pygments_lexer": "ipython3",
      "version": "3.12.7"
    }
  },
  "nbformat": 4,
  "nbformat_minor": 0
}